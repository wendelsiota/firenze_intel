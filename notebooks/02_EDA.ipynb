{
 "cells": [
  {
   "cell_type": "markdown",
   "id": "baeb8b6c",
   "metadata": {},
   "source": [
    "# EDA\n",
    "## A ideia é: EDA gera hipóteses → Modelagem aplica as decisões."
   ]
  },
  {
   "cell_type": "code",
   "execution_count": null,
   "id": "a245e9e0",
   "metadata": {},
   "outputs": [],
   "source": [
    "# === 01 • Imports e carga dos dados tratados ===\n",
    "import os\n",
    "import pandas as pd\n",
    "import matplotlib.pyplot as plt\n",
    "import seaborn as sns\n",
    "\n",
    "DATA_PROCESSED = \"../data/processed/listings_model_baseline.csv\"\n",
    "\n",
    "df = pd.read_csv(DATA_PROCESSED)\n",
    "print(f\"Shape: {df.shape}\")\n",
    "df.head(3)\n"
   ]
  },
  {
   "cell_type": "code",
   "execution_count": null,
   "id": "4c88bfa6",
   "metadata": {},
   "outputs": [],
   "source": [
    "# === 02 • Distribuição dos preços ===\n",
    "plt.figure(figsize=(10,5))\n",
    "sns.histplot(df[\"price\"], bins=100, kde=True)\n",
    "plt.title(\"Distribuição dos preços das diárias (Airbnb)\")\n",
    "plt.xlabel(\"Preço\")\n",
    "plt.ylabel(\"Frequência\")\n",
    "plt.show()\n"
   ]
  },
  {
   "cell_type": "code",
   "execution_count": null,
   "id": "ab4d5234",
   "metadata": {},
   "outputs": [],
   "source": [
    "# === 03 • Estatísticas descritivas ===\n",
    "df[\"price\"].describe(percentiles=[.05,.25,.5,.75,.95])\n"
   ]
  },
  {
   "cell_type": "code",
   "execution_count": null,
   "id": "957a03c3",
   "metadata": {},
   "outputs": [],
   "source": [
    "# === 04 • Preço por tipo de quarto ===\n",
    "plt.figure(figsize=(8,5))\n",
    "sns.boxplot(data=df, x=\"room_type\", y=\"price\")\n",
    "plt.ylim(0, 500)  # limitar para ver melhor a mediana\n",
    "plt.title(\"Distribuição de preços por tipo de quarto\")\n",
    "plt.show()\n"
   ]
  },
  {
   "cell_type": "code",
   "execution_count": null,
   "id": "31d858d8",
   "metadata": {},
   "outputs": [],
   "source": [
    "# === 05 • Correlação entre variáveis numéricas ===\n",
    "num_cols = df.select_dtypes(include=[\"float64\",\"int64\"]).columns\n",
    "plt.figure(figsize=(12,8))\n",
    "sns.heatmap(df[num_cols].corr(), annot=False, cmap=\"coolwarm\", center=0)\n",
    "plt.title(\"Mapa de correlação entre variáveis numéricas\")\n",
    "plt.show()\n"
   ]
  },
  {
   "cell_type": "code",
   "execution_count": null,
   "id": "5ff14005",
   "metadata": {},
   "outputs": [],
   "source": [
    "# === 06 • Mapa de calor: Preço x Localização ===\n",
    "plt.figure(figsize=(10,8))\n",
    "sc = plt.scatter(\n",
    "    df[\"longitude\"], df[\"latitude\"],\n",
    "    c=df[\"price\"], cmap=\"viridis\", alpha=0.6, s=10\n",
    ")\n",
    "plt.colorbar(sc, label=\"Preço da diária\")\n",
    "plt.title(\"Mapa de calor: preço por localização\")\n",
    "plt.xlabel(\"Longitude\")\n",
    "plt.ylabel(\"Latitude\")\n",
    "plt.show()\n"
   ]
  }
 ],
 "metadata": {
  "kernelspec": {
   "display_name": ".venv",
   "language": "python",
   "name": "python3"
  },
  "language_info": {
   "codemirror_mode": {
    "name": "ipython",
    "version": 3
   },
   "file_extension": ".py",
   "mimetype": "text/x-python",
   "name": "python",
   "nbconvert_exporter": "python",
   "pygments_lexer": "ipython3",
   "version": "3.12.3"
  }
 },
 "nbformat": 4,
 "nbformat_minor": 5
}
