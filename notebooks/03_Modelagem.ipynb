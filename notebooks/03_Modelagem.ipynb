{
 "cells": [
  {
   "cell_type": "code",
   "execution_count": null,
   "id": "5867a441",
   "metadata": {},
   "outputs": [],
   "source": [
    "# === 01 • Imports e carga do dataset ===\n",
    "import os\n",
    "import pandas as pd\n",
    "import numpy as np\n",
    "from sklearn.model_selection import train_test_split\n",
    "from sklearn.ensemble import RandomForestRegressor\n",
    "from xgboost import XGBRegressor\n",
    "from sklearn.metrics import mean_absolute_error, mean_squared_error, r2_score\n",
    "import matplotlib.pyplot as plt\n",
    "import seaborn as sns\n",
    "\n",
    "# Caminho dos dados processados\n",
    "DATA_PROCESSED = \"../data/processed/listings_model_baseline.csv\"\n",
    "\n",
    "df = pd.read_csv(DATA_PROCESSED)\n",
    "print(f\"Shape inicial: {df.shape}\")\n",
    "df.head(3)\n"
   ]
  },
  {
   "cell_type": "code",
   "execution_count": null,
   "id": "e40048f1",
   "metadata": {},
   "outputs": [],
   "source": [
    "# === 02 • Transformação logarítmica do preço ===\n",
    "df[\"price_log\"] = np.log1p(df[\"price\"])  # log(price+1)\n",
    "\n",
    "sns.histplot(df[\"price_log\"], bins=50, kde=True)\n",
    "plt.title(\"Distribuição do preço transformado (log)\")\n",
    "plt.show()\n"
   ]
  },
  {
   "cell_type": "code",
   "execution_count": null,
   "id": "a1d48008",
   "metadata": {},
   "outputs": [],
   "source": [
    "# === 03 • Features numéricas e categóricas ===\n",
    "\n",
    "TARGET = \"price_log\"\n",
    "\n",
    "features_num = [\n",
    "    \"accommodates\",\"bedrooms\",\"bathrooms\",\"beds\",\n",
    "    \"number_of_reviews\",\"reviews_per_month\",\"review_scores_rating\",\n",
    "    \"minimum_nights\",\"maximum_nights\",\"availability_365\",\n",
    "    \"latitude\",\"longitude\"\n",
    "]\n",
    "\n",
    "features_cat = [\"room_type\",\"property_type\"]\n",
    "\n",
    "# One-hot encoding\n",
    "df_encoded = pd.get_dummies(df[features_num + features_cat + [TARGET]], drop_first=True)\n",
    "\n",
    "X = df_encoded.drop(columns=[TARGET])\n",
    "y = df_encoded[TARGET]\n",
    "\n",
    "X_train, X_test, y_train, y_test = train_test_split(\n",
    "    X, y, test_size=0.2, random_state=42\n",
    ")\n"
   ]
  },
  {
   "cell_type": "code",
   "execution_count": null,
   "id": "0b866ff3",
   "metadata": {},
   "outputs": [],
   "source": [
    "# === 04 • Função para avaliar modelos ===\n",
    "def avaliar_modelo(nome, y_true, y_pred):\n",
    "    mae = mean_absolute_error(y_true, y_pred)\n",
    "    rmse = np.sqrt(mean_squared_error(y_true, y_pred))\n",
    "    r2 = r2_score(y_true, y_pred)\n",
    "    print(f\"=== {nome} ===\")\n",
    "    print(f\"MAE : {mae:.2f}\")\n",
    "    print(f\"RMSE: {rmse:.2f}\")\n",
    "    print(f\"R²  : {r2:.2f}\")\n",
    "    return {\"Modelo\": nome, \"MAE\": mae, \"RMSE\": rmse, \"R2\": r2}\n"
   ]
  },
  {
   "cell_type": "code",
   "execution_count": null,
   "id": "b52c2fe2",
   "metadata": {},
   "outputs": [],
   "source": [
    "# === 05 • Treino Random Forest e XGBoost ===\n",
    "\n",
    "# Random Forest\n",
    "rf = RandomForestRegressor(n_estimators=200, random_state=42, n_jobs=-1)\n",
    "rf.fit(X_train, y_train)\n",
    "rf_pred = rf.predict(X_test)\n",
    "res_rf = avaliar_modelo(\"Random Forest\", y_test, rf_pred)\n",
    "\n",
    "# XGBoost\n",
    "xgb = XGBRegressor(\n",
    "    n_estimators=500,\n",
    "    learning_rate=0.1,\n",
    "    max_depth=6,\n",
    "    subsample=0.8,\n",
    "    colsample_bytree=0.8,\n",
    "    random_state=42,\n",
    "    n_jobs=-1\n",
    ")\n",
    "xgb.fit(X_train, y_train)\n",
    "xgb_pred = xgb.predict(X_test)\n",
    "res_xgb = avaliar_modelo(\"XGBoost\", y_test, xgb_pred)\n"
   ]
  },
  {
   "cell_type": "code",
   "execution_count": null,
   "id": "6ffec80a",
   "metadata": {},
   "outputs": [],
   "source": [
    "# === 06 • Comparação em tabela ===\n",
    "import pandas as pd\n",
    "\n",
    "resultados = pd.DataFrame([res_rf, res_xgb])\n",
    "display(resultados)\n"
   ]
  },
  {
   "cell_type": "code",
   "execution_count": null,
   "id": "bd09c07e",
   "metadata": {},
   "outputs": [],
   "source": [
    "# === 07 • Visualização comparativa das métricas ===\n",
    "plt.figure(figsize=(8,5))\n",
    "sns.barplot(data=resultados.melt(id_vars=\"Modelo\", value_vars=[\"MAE\",\"RMSE\",\"R2\"]),\n",
    "            x=\"variable\", y=\"value\", hue=\"Modelo\")\n",
    "plt.title(\"Comparação das métricas entre modelos\")\n",
    "plt.ylabel(\"Valor\")\n",
    "plt.show()\n"
   ]
  },
  {
   "cell_type": "code",
   "execution_count": null,
   "id": "78052ba1",
   "metadata": {},
   "outputs": [],
   "source": [
    "# === 08 • Eleição do melhor modelo ===\n",
    "melhor = resultados.sort_values(\"RMSE\").iloc[0]\n",
    "print(f\"O melhor modelo foi: {melhor['Modelo']} com RMSE={melhor['RMSE']:.2f} e R²={melhor['R2']:.2f}\")\n"
   ]
  }
 ],
 "metadata": {
  "kernelspec": {
   "display_name": ".venv",
   "language": "python",
   "name": "python3"
  },
  "language_info": {
   "codemirror_mode": {
    "name": "ipython",
    "version": 3
   },
   "file_extension": ".py",
   "mimetype": "text/x-python",
   "name": "python",
   "nbconvert_exporter": "python",
   "pygments_lexer": "ipython3",
   "version": "3.12.3"
  }
 },
 "nbformat": 4,
 "nbformat_minor": 5
}
