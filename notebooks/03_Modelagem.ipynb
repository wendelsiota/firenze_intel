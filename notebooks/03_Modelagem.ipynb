{
 "cells": [
  {
   "cell_type": "code",
   "execution_count": 1,
   "id": "5867a441",
   "metadata": {},
   "outputs": [
    {
     "name": "stdout",
     "output_type": "stream",
     "text": [
      "Shape inicial: (10743, 17)\n"
     ]
    },
    {
     "data": {
      "text/html": [
       "<div>\n",
       "<style scoped>\n",
       "    .dataframe tbody tr th:only-of-type {\n",
       "        vertical-align: middle;\n",
       "    }\n",
       "\n",
       "    .dataframe tbody tr th {\n",
       "        vertical-align: top;\n",
       "    }\n",
       "\n",
       "    .dataframe thead th {\n",
       "        text-align: right;\n",
       "    }\n",
       "</style>\n",
       "<table border=\"1\" class=\"dataframe\">\n",
       "  <thead>\n",
       "    <tr style=\"text-align: right;\">\n",
       "      <th></th>\n",
       "      <th>latitude</th>\n",
       "      <th>longitude</th>\n",
       "      <th>room_type</th>\n",
       "      <th>property_type</th>\n",
       "      <th>accommodates</th>\n",
       "      <th>bedrooms</th>\n",
       "      <th>bathrooms</th>\n",
       "      <th>beds</th>\n",
       "      <th>number_of_reviews</th>\n",
       "      <th>reviews_per_month</th>\n",
       "      <th>review_scores_rating</th>\n",
       "      <th>minimum_nights</th>\n",
       "      <th>maximum_nights</th>\n",
       "      <th>availability_365</th>\n",
       "      <th>instant_bookable</th>\n",
       "      <th>host_is_superhost</th>\n",
       "      <th>price</th>\n",
       "    </tr>\n",
       "  </thead>\n",
       "  <tbody>\n",
       "    <tr>\n",
       "      <th>0</th>\n",
       "      <td>43.77709</td>\n",
       "      <td>11.25216</td>\n",
       "      <td>Private room</td>\n",
       "      <td>Private room in serviced apartment</td>\n",
       "      <td>2</td>\n",
       "      <td>1.0</td>\n",
       "      <td>1.0</td>\n",
       "      <td>1.0</td>\n",
       "      <td>156.0</td>\n",
       "      <td>0.85</td>\n",
       "      <td>4.67</td>\n",
       "      <td>1</td>\n",
       "      <td>99</td>\n",
       "      <td>345</td>\n",
       "      <td>1.0</td>\n",
       "      <td>NaN</td>\n",
       "      <td>130.0</td>\n",
       "    </tr>\n",
       "    <tr>\n",
       "      <th>1</th>\n",
       "      <td>43.76832</td>\n",
       "      <td>11.24348</td>\n",
       "      <td>Entire home/apt</td>\n",
       "      <td>Entire condo</td>\n",
       "      <td>4</td>\n",
       "      <td>2.0</td>\n",
       "      <td>2.0</td>\n",
       "      <td>3.0</td>\n",
       "      <td>40.0</td>\n",
       "      <td>0.22</td>\n",
       "      <td>4.77</td>\n",
       "      <td>6</td>\n",
       "      <td>31</td>\n",
       "      <td>162</td>\n",
       "      <td>0.0</td>\n",
       "      <td>0.0</td>\n",
       "      <td>112.0</td>\n",
       "    </tr>\n",
       "    <tr>\n",
       "      <th>2</th>\n",
       "      <td>43.76742</td>\n",
       "      <td>11.24378</td>\n",
       "      <td>Entire home/apt</td>\n",
       "      <td>Entire rental unit</td>\n",
       "      <td>4</td>\n",
       "      <td>2.0</td>\n",
       "      <td>1.0</td>\n",
       "      <td>2.0</td>\n",
       "      <td>34.0</td>\n",
       "      <td>0.19</td>\n",
       "      <td>4.48</td>\n",
       "      <td>4</td>\n",
       "      <td>1124</td>\n",
       "      <td>171</td>\n",
       "      <td>0.0</td>\n",
       "      <td>1.0</td>\n",
       "      <td>97.0</td>\n",
       "    </tr>\n",
       "  </tbody>\n",
       "</table>\n",
       "</div>"
      ],
      "text/plain": [
       "   latitude  longitude        room_type                       property_type  \\\n",
       "0  43.77709   11.25216     Private room  Private room in serviced apartment   \n",
       "1  43.76832   11.24348  Entire home/apt                        Entire condo   \n",
       "2  43.76742   11.24378  Entire home/apt                  Entire rental unit   \n",
       "\n",
       "   accommodates  bedrooms  bathrooms  beds  number_of_reviews  \\\n",
       "0             2       1.0        1.0   1.0              156.0   \n",
       "1             4       2.0        2.0   3.0               40.0   \n",
       "2             4       2.0        1.0   2.0               34.0   \n",
       "\n",
       "   reviews_per_month  review_scores_rating  minimum_nights  maximum_nights  \\\n",
       "0               0.85                  4.67               1              99   \n",
       "1               0.22                  4.77               6              31   \n",
       "2               0.19                  4.48               4            1124   \n",
       "\n",
       "   availability_365  instant_bookable  host_is_superhost  price  \n",
       "0               345               1.0                NaN  130.0  \n",
       "1               162               0.0                0.0  112.0  \n",
       "2               171               0.0                1.0   97.0  "
      ]
     },
     "execution_count": 1,
     "metadata": {},
     "output_type": "execute_result"
    }
   ],
   "source": [
    "# === 01 • Imports e carga do dataset ===\n",
    "import os\n",
    "import pandas as pd\n",
    "import numpy as np\n",
    "from sklearn.model_selection import train_test_split\n",
    "from sklearn.ensemble import RandomForestRegressor\n",
    "from xgboost import XGBRegressor\n",
    "from sklearn.metrics import mean_absolute_error, mean_squared_error, r2_score\n",
    "import matplotlib.pyplot as plt\n",
    "import seaborn as sns\n",
    "\n",
    "# Caminho dos dados processados\n",
    "DATA_PROCESSED = \"../data/processed/listings_model_baseline.csv\"\n",
    "\n",
    "df = pd.read_csv(DATA_PROCESSED)\n",
    "print(f\"Shape inicial: {df.shape}\")\n",
    "df.head(3)\n"
   ]
  },
  {
   "cell_type": "code",
   "execution_count": 2,
   "id": "e40048f1",
   "metadata": {},
   "outputs": [
    {
     "data": {
      "image/png": "[encoded data removed]",
      "text/plain": [
       "<Figure size 640x480 with 1 Axes>"
      ]
     },
     "metadata": {},
     "output_type": "display_data"
    }
   ],
   "source": [
    "# === 02 • Transformação logarítmica do preço ===\n",
    "df[\"price_log\"] = np.log1p(df[\"price\"])  # log(price+1)\n",
    "\n",
    "sns.histplot(df[\"price_log\"], bins=50, kde=True)\n",
    "plt.title(\"Distribuição do preço transformado (log)\")\n",
    "plt.show()\n"
   ]
  },
  {
   "cell_type": "code",
   "execution_count": 3,
   "id": "a1d48008",
   "metadata": {},
   "outputs": [],
   "source": [
    "# === 03 • Features numéricas e categóricas ===\n",
    "\n",
    "TARGET = \"price_log\"\n",
    "\n",
    "features_num = [\n",
    "    \"accommodates\",\"bedrooms\",\"bathrooms\",\"beds\",\n",
    "    \"number_of_reviews\",\"reviews_per_month\",\"review_scores_rating\",\n",
    "    \"minimum_nights\",\"maximum_nights\",\"availability_365\",\n",
    "    \"latitude\",\"longitude\"\n",
    "]\n",
    "\n",
    "features_cat = [\"room_type\",\"property_type\"]\n",
    "\n",
    "# One-hot encoding\n",
    "df_encoded = pd.get_dummies(df[features_num + features_cat + [TARGET]], drop_first=True)\n",
    "\n",
    "X = df_encoded.drop(columns=[TARGET])\n",
    "y = df_encoded[TARGET]\n",
    "\n",
    "X_train, X_test, y_train, y_test = train_test_split(\n",
    "    X, y, test_size=0.2, random_state=42\n",
    ")\n"
   ]
  },
  {
   "cell_type": "code",
   "execution_count": 4,
   "id": "0b866ff3",
   "metadata": {},
   "outputs": [],
   "source": [
    "# === 04 • Função para avaliar modelos ===\n",
    "def avaliar_modelo(nome, y_true, y_pred):\n",
    "    mae = mean_absolute_error(y_true, y_pred)\n",
    "    rmse = np.sqrt(mean_squared_error(y_true, y_pred))\n",
    "    r2 = r2_score(y_true, y_pred)\n",
    "    print(f\"=== {nome} ===\")\n",
    "    print(f\"MAE : {mae:.2f}\")\n",
    "    print(f\"RMSE: {rmse:.2f}\")\n",
    "    print(f\"R²  : {r2:.2f}\")\n",
    "    return {\"Modelo\": nome, \"MAE\": mae, \"RMSE\": rmse, \"R2\": r2}\n"
   ]
  },
  {
   "cell_type": "code",
   "execution_count": 5,
   "id": "b52c2fe2",
   "metadata": {},
   "outputs": [
    {
     "name": "stdout",
     "output_type": "stream",
     "text": [
      "=== Random Forest ===\n",
      "MAE : 0.29\n",
      "RMSE: 0.43\n",
      "R²  : 0.52\n",
      "=== XGBoost ===\n",
      "MAE : 0.29\n",
      "RMSE: 0.42\n",
      "R²  : 0.54\n"
     ]
    }
   ],
   "source": [
    "# === 05 • Treino Random Forest e XGBoost ===\n",
    "\n",
    "# Random Forest\n",
    "rf = RandomForestRegressor(n_estimators=200, random_state=42, n_jobs=-1)\n",
    "rf.fit(X_train, y_train)\n",
    "rf_pred = rf.predict(X_test)\n",
    "res_rf = avaliar_modelo(\"Random Forest\", y_test, rf_pred)\n",
    "\n",
    "# XGBoost\n",
    "xgb = XGBRegressor(\n",
    "    n_estimators=500,\n",
    "    learning_rate=0.1,\n",
    "    max_depth=6,\n",
    "    subsample=0.8,\n",
    "    colsample_bytree=0.8,\n",
    "    random_state=42,\n",
    "    n_jobs=-1\n",
    ")\n",
    "xgb.fit(X_train, y_train)\n",
    "xgb_pred = xgb.predict(X_test)\n",
    "res_xgb = avaliar_modelo(\"XGBoost\", y_test, xgb_pred)\n"
   ]
  },
  {
   "cell_type": "code",
   "execution_count": 6,
   "id": "6ffec80a",
   "metadata": {},
   "outputs": [
    {
     "data": {
      "text/html": [
       "<div>\n",
       "<style scoped>\n",
       "    .dataframe tbody tr th:only-of-type {\n",
       "        vertical-align: middle;\n",
       "    }\n",
       "\n",
       "    .dataframe tbody tr th {\n",
       "        vertical-align: top;\n",
       "    }\n",
       "\n",
       "    .dataframe thead th {\n",
       "        text-align: right;\n",
       "    }\n",
       "</style>\n",
       "<table border=\"1\" class=\"dataframe\">\n",
       "  <thead>\n",
       "    <tr style=\"text-align: right;\">\n",
       "      <th></th>\n",
       "      <th>Modelo</th>\n",
       "      <th>MAE</th>\n",
       "      <th>RMSE</th>\n",
       "      <th>R2</th>\n",
       "    </tr>\n",
       "  </thead>\n",
       "  <tbody>\n",
       "    <tr>\n",
       "      <th>0</th>\n",
       "      <td>Random Forest</td>\n",
       "      <td>0.293960</td>\n",
       "      <td>0.433113</td>\n",
       "      <td>0.516062</td>\n",
       "    </tr>\n",
       "    <tr>\n",
       "      <th>1</th>\n",
       "      <td>XGBoost</td>\n",
       "      <td>0.287305</td>\n",
       "      <td>0.421154</td>\n",
       "      <td>0.542418</td>\n",
       "    </tr>\n",
       "  </tbody>\n",
       "</table>\n",
       "</div>"
      ],
      "text/plain": [
       "          Modelo       MAE      RMSE        R2\n",
       "0  Random Forest  0.293960  0.433113  0.516062\n",
       "1        XGBoost  0.287305  0.421154  0.542418"
      ]
     },
     "metadata": {},
     "output_type": "display_data"
    }
   ],
   "source": [
    "# === 06 • Comparação em tabela ===\n",
    "import pandas as pd\n",
    "\n",
    "resultados = pd.DataFrame([res_rf, res_xgb])\n",
    "display(resultados)\n"
   ]
  },
  {
   "cell_type": "code",
   "execution_count": 7,
   "id": "bd09c07e",
   "metadata": {},
   "outputs": [
    {
     "data": {
      "image/png": "[encoded data removed]",
      "text/plain": [
       "<Figure size 800x500 with 1 Axes>"
      ]
     },
     "metadata": {},
     "output_type": "display_data"
    }
   ],
   "source": [
    "# === 07 • Visualização comparativa das métricas ===\n",
    "plt.figure(figsize=(8,5))\n",
    "sns.barplot(data=resultados.melt(id_vars=\"Modelo\", value_vars=[\"MAE\",\"RMSE\",\"R2\"]),\n",
    "            x=\"variable\", y=\"value\", hue=\"Modelo\")\n",
    "plt.title(\"Comparação das métricas entre modelos\")\n",
    "plt.ylabel(\"Valor\")\n",
    "plt.show()\n"
   ]
  },
  {
   "cell_type": "code",
   "execution_count": 8,
   "id": "78052ba1",
   "metadata": {},
   "outputs": [
    {
     "name": "stdout",
     "output_type": "stream",
     "text": [
      "O melhor modelo foi: XGBoost com RMSE=0.42 e R²=0.54\n"
     ]
    }
   ],
   "source": [
    "# === 08 • Eleição do melhor modelo ===\n",
    "melhor = resultados.sort_values(\"RMSE\").iloc[0]\n",
    "print(f\"O melhor modelo foi: {melhor['Modelo']} com RMSE={melhor['RMSE']:.2f} e R²={melhor['R2']:.2f}\")\n"
   ]
  }
 ],
 "metadata": {
  "kernelspec": {
   "display_name": ".venv",
   "language": "python",
   "name": "python3"
  },
  "language_info": {
   "codemirror_mode": {
    "name": "ipython",
    "version": 3
   },
   "file_extension": ".py",
   "mimetype": "text/x-python",
   "name": "python",
   "nbconvert_exporter": "python",
   "pygments_lexer": "ipython3",
   "version": "3.12.3"
  }
 },
 "nbformat": 4,
 "nbformat_minor": 5
}
